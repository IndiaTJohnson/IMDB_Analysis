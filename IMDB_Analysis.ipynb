{
 "cells": [
  {
   "cell_type": "code",
   "execution_count": null,
   "id": "b0c0cb25-f995-4241-ab12-1549dc4d32f6",
   "metadata": {},
   "outputs": [],
   "source": [
    "#Create Folder"
   ]
  },
  {
   "cell_type": "code",
   "execution_count": 1,
   "id": "adb49c26-1d73-4320-ab31-2621fb5f4b79",
   "metadata": {},
   "outputs": [],
   "source": [
    "# Create new folder with os\n",
    "import os\n",
    "os.makedirs('Data/',exist_ok=True) \n"
   ]
  },
  {
   "cell_type": "code",
   "execution_count": null,
   "id": "41c262d8-40f3-488a-ae66-88fee4ff5a6c",
   "metadata": {},
   "outputs": [],
   "source": [
    "# Confirm folder was created and files added successfully\n",
    "os.listdir(\"Data/\")\n",
    "\n"
   ]
  },
  {
   "cell_type": "code",
   "execution_count": null,
   "id": "f3227d22-a189-4ee9-a6bb-d9aefcfccd6b",
   "metadata": {},
   "outputs": [],
   "source": []
  },
  {
   "cell_type": "code",
   "execution_count": null,
   "id": "1788ea60-d992-41e2-be7c-5f233fda985b",
   "metadata": {},
   "outputs": [],
   "source": []
  },
  {
   "cell_type": "code",
   "execution_count": null,
   "id": "0f3a65f8-b31e-4aed-a548-fb9235c57280",
   "metadata": {},
   "outputs": [],
   "source": []
  }
 ],
 "metadata": {
  "kernelspec": {
   "display_name": "Python (dojo-env)",
   "language": "python",
   "name": "dojo-env"
  },
  "language_info": {
   "codemirror_mode": {
    "name": "ipython",
    "version": 3
   },
   "file_extension": ".py",
   "mimetype": "text/x-python",
   "name": "python",
   "nbconvert_exporter": "python",
   "pygments_lexer": "ipython3",
   "version": "3.10.10"
  }
 },
 "nbformat": 4,
 "nbformat_minor": 5
}
